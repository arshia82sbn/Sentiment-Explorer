{
 "cells": [
  {
   "cell_type": "code",
   "metadata": {
    "id": "goPwV3upmfgz"
   },
   "source": [
    "import pandas as pd\n",
    "\n",
    "train_data = pd.read_csv('../data/train.csv')\n",
    "test_data = pd.read_csv('../data/test.csv')"
   ],
   "outputs": [],
   "execution_count": null
  },
  {
   "cell_type": "code",
   "metadata": {
    "colab": {
     "base_uri": "https://localhost:8080/"
    },
    "id": "bQ6S5951oH7q",
    "outputId": "41508db8-7d06-4390-9634-70cf72613310"
   },
   "source": [
    "# getting information about train dataset\n",
    "train_data.info()"
   ],
   "outputs": [],
   "execution_count": null
  },
  {
   "cell_type": "code",
   "metadata": {
    "colab": {
     "base_uri": "https://localhost:8080/"
    },
    "id": "lz3hKePGakta",
    "outputId": "0d067ad1-5228-46b2-b7e9-ec5740207937"
   },
   "source": [
    "# getting information about test dataset\n",
    "test_data.info()"
   ],
   "outputs": [],
   "execution_count": null
  },
  {
   "cell_type": "code",
   "metadata": {
    "colab": {
     "base_uri": "https://localhost:8080/",
     "height": 210
    },
    "id": "_86nqD-4a0b-",
    "outputId": "b5036a43-c4c8-416e-8b06-6bd372343078"
   },
   "source": [
    "# Count the number of data classes in the target column\n",
    "train_data['recommendation_status'].value_counts()"
   ],
   "outputs": [],
   "execution_count": null
  },
  {
   "cell_type": "code",
   "metadata": {
    "id": "_yuzGz_sYQSv"
   },
   "source": [
    "# Convert \"recommended\" data to 1 and \"not_recommended\" data to 0.\n",
    "train_data[\"recommendation_status\"] = train_data[\"recommendation_status\"].map({\"no_idea\": 2,\"recommended\": 1, \"not_recommended\": 0})"
   ],
   "outputs": [],
   "execution_count": null
  },
  {
   "cell_type": "code",
   "metadata": {
    "colab": {
     "base_uri": "https://localhost:8080/"
    },
    "id": "R47YonnlZDn1",
    "outputId": "59e73a06-bcc8-4966-fcc3-d2968754ca55"
   },
   "source": [
    "# checking the values stored in \"recommendation_starus\"\n",
    "train_data[\"recommendation_status\"].unique()"
   ],
   "outputs": [],
   "execution_count": null
  },
  {
   "cell_type": "code",
   "metadata": {
    "colab": {
     "base_uri": "https://localhost:8080/",
     "height": 210
    },
    "id": "IVGZ1IeKCXIK",
    "outputId": "adb4f75a-ab5e-4543-bee2-16f598ff2e23"
   },
   "source": [
    "train_data[\"recommendation_status\"].value_counts()"
   ],
   "outputs": [],
   "execution_count": null
  },
  {
   "cell_type": "code",
   "metadata": {
    "colab": {
     "base_uri": "https://localhost:8080/"
    },
    "id": "S4ZVBLIQZbvl",
    "outputId": "423e63bd-3cbc-44dc-d2c2-9ff9180e61c2"
   },
   "source": [
    "!pip install hazm"
   ],
   "outputs": [],
   "execution_count": null
  },
  {
   "cell_type": "code",
   "metadata": {
    "id": "H11x9yMlZpEm"
   },
   "source": [
    "# requirements: pip install hazm\n",
    "import re\n",
    "from string import punctuation as ascii_punct\n",
    "from hazm import Normalizer, Stemmer, WordTokenizer\n",
    "\n",
    "# initialize hazm objects once\n",
    "normalizer = Normalizer()\n",
    "stemmer = Stemmer()\n",
    "tokenizer = WordTokenizer()\n",
    "\n",
    "# A default Persian stopword set (sample; you’d better have a more complete file)\n",
    "DEFAULT_PERSIAN_STOPWORDS = {\n",
    "    \"و\",\"در\",\"به\",\"از\",\"که\",\"این\",\"را\",\"با\",\"برای\",\"است\",\"می\",\"شد\",\"اگر\",\"ها\",\"آن\",\"تا\",\"یا\",\"هم\"\n",
    "}\n",
    "\n",
    "# A set of common Persian punctuation/signs\n",
    "PERSIAN_PUNCT = \"،؛؟«»—–-•…٬\"  # you can extend as you like\n",
    "\n",
    "def preprocess_text(text: str, stopwords: set | None = None) -> list:\n",
    "    \"\"\"\n",
    "    Preprocess Persian text:\n",
    "    - Normalize (hazm.Normalizer)\n",
    "    - Remove numbers (Persian and Latin)\n",
    "    - Remove punctuation (Latin + Persian)\n",
    "    - Collapse multiple spaces\n",
    "    - Tokenize (hazm.WordTokenizer)\n",
    "    - Remove stopwords (Persian)\n",
    "    - Stem (hazm.Stemmer)\n",
    "    Returns: list of processed tokens (stemmed)\n",
    "    Raises TypeError for non-string input.\n",
    "    \"\"\"\n",
    "    if not isinstance(text, str):\n",
    "        raise TypeError(\"Input must be a string\")\n",
    "\n",
    "    if stopwords is None:\n",
    "        stopwords = DEFAULT_PERSIAN_STOPWORDS\n",
    "\n",
    "    # 1. Normalization\n",
    "    text = normalizer.normalize(text)\n",
    "\n",
    "    # 2. Remove numbers (Latin and Persian)\n",
    "    #   0-9  : Latin\n",
    "    #   ۰-۹  : Persian (Unicode)\n",
    "    text = re.sub(r'[0-9۰-۹]+', ' ', text)\n",
    "\n",
    "    # 3. Remove punctuation (Latin + Persian) — keeping letters and spaces\n",
    "    all_punct = ascii_punct + PERSIAN_PUNCT + \"`\\\"'«»“”‚„‹›·•\"\n",
    "    # escape for regex class\n",
    "    pattern_punct = f\"[{re.escape(all_punct)}]\"\n",
    "    text = re.sub(pattern_punct, ' ', text)\n",
    "\n",
    "    # 4. Remove special noise like zero-width non-joiner/joiner (ZWJ / ZWNJ) — this line is useful for Persian\n",
    "    text = re.sub(r'[\\u200c\\u200d]', '', text)  # ZWNJ (‌) and ZWJ\n",
    "\n",
    "    # 5. Normalize spaces\n",
    "    text = re.sub(r'\\s+', ' ', text).strip()\n",
    "\n",
    "    # 6. Tokenization\n",
    "    tokens = tokenizer.tokenize(text)\n",
    "\n",
    "    # 7. Remove stopwords, empty tokens, and tokens that are just spaces (safety)\n",
    "    filtered = [t for t in tokens if t and t not in stopwords and not re.fullmatch(r'\\s+', t)]\n",
    "\n",
    "    # 8. Stemming — apply stemmer to each token separately\n",
    "    stemmed = [stemmer.stem(t) for t in filtered]\n",
    "\n",
    "    # 9. Final: return the list of stemmed tokens\n",
    "    return stemmed\n"
   ],
   "outputs": [],
   "execution_count": null
  },
  {
   "cell_type": "code",
   "metadata": {
    "id": "c1THStUUhv-8"
   },
   "source": [
    "dataes = train_data['body']"
   ],
   "outputs": [],
   "execution_count": null
  },
  {
   "cell_type": "code",
   "metadata": {
    "id": "AHWx8D8Nh60l"
   },
   "source": [
    "data_processed = dataes.apply(preprocess_text)"
   ],
   "outputs": [],
   "execution_count": null
  },
  {
   "cell_type": "code",
   "metadata": {
    "colab": {
     "base_uri": "https://localhost:8080/",
     "height": 206
    },
    "id": "E6Ug9pdViA2u",
    "outputId": "d1c619b9-6fc6-421c-9315-3014ec97278e"
   },
   "source": [
    "train_data[\"preprocess\"] = data_processed\n",
    "train_data.head()"
   ],
   "outputs": [],
   "execution_count": null
  },
  {
   "cell_type": "code",
   "metadata": {
    "id": "4pTpsNCOaeA8"
   },
   "source": [
    "from gensim.models import Word2Vec\n",
    "\n",
    "sentences = train_data['preprocess'].to_list()\n",
    "\n",
    "model = Word2Vec(sentences=sentences,\n",
    "                    vector_size=200,           # larger embedding size → better representation\n",
    "                    window=7,                  # context window\n",
    "                    min_count=2,               # ignore very rare words\n",
    "                    sg=1,                      # use skip-gram (better for small datasets)\n",
    "                    negative=10,               # negative sampling\n",
    "                    epochs=30,                 # more training passes\n",
    "                    workers=8,                 # number of CPU threads\n",
    "                    seed=42,\n",
    "                 )\n",
    "model.train(sentences, total_examples=len(sentences), epochs=30)"
   ],
   "outputs": [],
   "execution_count": null
  },
  {
   "cell_type": "code",
   "metadata": {
    "colab": {
     "base_uri": "https://localhost:8080/"
    },
    "id": "gimbEMP5f1_r",
    "outputId": "f02941cd-56a3-4f16-a765-f9fa5de62151"
   },
   "source": [
    "model.wv.most_similar(\"دوست\")"
   ],
   "outputs": [],
   "execution_count": null
  },
  {
   "cell_type": "code",
   "metadata": {
    "id": "nSQep3ve60cW"
   },
   "source": [
    "import numpy as np"
   ],
   "outputs": [],
   "execution_count": null
  },
  {
   "cell_type": "code",
   "metadata": {
    "id": "G7W8myxB64l7"
   },
   "source": [
    "# Create sentence vectors by averaging word vectors\n",
    "def sentence_vector(sentence):\n",
    "    vectors = []\n",
    "    for word in sentence:\n",
    "        try:\n",
    "            vectors.append(model.wv[word])\n",
    "        except KeyError:\n",
    "            # Handle words not in vocabulary (e.g., use a zero vector)\n",
    "            vectors.append(np.zeros(200))  # Assuming vector_size=100\n",
    "    if vectors:\n",
    "        return np.mean(vectors, axis=0)\n",
    "    else:\n",
    "        return np.zeros(200)\n"
   ],
   "outputs": [],
   "execution_count": null
  },
  {
   "cell_type": "code",
   "metadata": {
    "colab": {
     "base_uri": "https://localhost:8080/",
     "height": 458
    },
    "id": "LoBDtIP_67u0",
    "outputId": "2054b68b-2a1d-4223-80e6-2801d8c8c72e"
   },
   "source": [
    "sentence_vectors = train_data['preprocess'].apply(sentence_vector)\n",
    "sentence_vectors"
   ],
   "outputs": [],
   "execution_count": null
  },
  {
   "cell_type": "code",
   "metadata": {
    "id": "2zsKKt9d7E1F"
   },
   "source": [
    "from sklearn.model_selection import train_test_split\n",
    "\n",
    "# Convert sentence vectors to a NumPy array\n",
    "X = np.array(sentence_vectors.to_list())\n",
    "\n",
    "# Assuming 'df[\"recommendation_status\"]' contains target labels\n",
    "y = train_data[\"recommendation_status\"].values\n",
    "\n",
    "# Split data into training and testing sets\n",
    "X_train, X_test, y_train, y_test = train_test_split(X, y, test_size=0.2, random_state=42)"
   ],
   "outputs": [],
   "execution_count": null
  },
  {
   "cell_type": "code",
   "metadata": {
    "colab": {
     "base_uri": "https://localhost:8080/",
     "height": 80
    },
    "id": "ozUuSRR51xVx",
    "outputId": "3bc1282a-4b7f-42ca-f484-7071a0136afd"
   },
   "source": [
    "\n",
    "from sklearn.linear_model import LogisticRegression\n",
    "\n",
    "# Initialize and train the Logistic Regression model\n",
    "logistic_model = LogisticRegression(max_iter=1000,\n",
    "                solver='liblinear',   # robust for small/medium datasets\n",
    "                C=2.0,                # regularization strength (bigger = less regularization)\n",
    "                class_weight='balanced',  # handle class imbalance if exists\n",
    "                random_state=42\n",
    "            )\n",
    "logistic_model.fit(X_train, y_train)\n"
   ],
   "outputs": [],
   "execution_count": null
  },
  {
   "metadata": {},
   "cell_type": "code",
   "source": [
    "from sklearn.model_selection import GridSearchCV\n",
    "from sklearn.linear_model import LogisticRegression\n",
    "\n",
    "param_grid = {\n",
    "    'C': [0.5, 1, 2, 5, 10],              # regularization strength\n",
    "    'solver': ['liblinear', 'saga'],      # different optimization algorithms\n",
    "    'penalty': ['l1', 'l2'],              # type of regularization\n",
    "    'class_weight': [None, 'balanced']    # handle class imbalance\n",
    "}\n",
    "\n",
    "base_model = LogisticRegression(max_iter=3000, random_state=42)\n",
    "grid_search = GridSearchCV(\n",
    "    base_model,\n",
    "    param_grid,\n",
    "    cv=5,                    # 5-fold cross-validation\n",
    "    scoring='accuracy',\n",
    "    n_jobs=-1,               # use all cores\n",
    "    verbose=2\n",
    ")\n",
    "\n",
    "grid_search.fit(X_train, y_train)\n",
    "\n",
    "# Get best model\n",
    "best_model = grid_search.best_estimator_\n",
    "print(\"Best Parameters:\", grid_search.best_params_)\n"
   ],
   "outputs": [],
   "execution_count": null
  },
  {
   "metadata": {
    "ExecuteTime": {
     "end_time": "2025-10-26T14:37:53.271297200Z",
     "start_time": "2025-10-26T14:37:49.680465Z"
    }
   },
   "cell_type": "code",
   "source": [
    "from sklearn.metrics import classification_report, confusion_matrix , accuracy_score\n",
    "\n",
    "y_pred = best_model.predict(X_test)\n",
    "print(\"Accuracy:\", accuracy_score(y_test, y_pred))\n",
    "print(classification_report(y_test, y_pred))"
   ],
   "outputs": [],
   "execution_count": null
  },
  {
   "cell_type": "code",
   "metadata": {
    "colab": {
     "base_uri": "https://localhost:8080/"
    },
    "id": "FnTkh_xy6TZ_",
    "outputId": "b802ea8e-96e5-4fb5-c4ed-3e48fbc38b76"
   },
   "source": [
    "from sklearn.metrics import classification_report, confusion_matrix , accuracy_score\n",
    "\n",
    "y_pred = logistic_model.predict(X_test)\n",
    "print(\"Accuracy:\", accuracy_score(y_test, y_pred))\n",
    "print(classification_report(y_test, y_pred))"
   ],
   "outputs": [],
   "execution_count": null
  },
  {
   "cell_type": "code",
   "metadata": {
    "id": "Z8jLBFxK9t9O"
   },
   "source": [
    "def predict_recommendation(comment):\n",
    "    \"\"\"\n",
    "    Predict sentiment class (recommended / not_recommended / no_idea)\n",
    "    for a given Persian comment using the trained model and preprocessing pipeline.\n",
    "    \"\"\"\n",
    "    # Step 1: Preprocess the input text\n",
    "    processed_tokens = preprocess_text(comment)\n",
    "    \n",
    "    # Step 2: Convert to sentence vector\n",
    "    vector = sentence_vector(processed_tokens)\n",
    "    \n",
    "    # Step 3: Reshape for model prediction (1 sample, 100 features)\n",
    "    vector = np.array(vector).reshape(1, -1)\n",
    "    \n",
    "    # Step 4: Predict numeric label\n",
    "    predicted_label = logistic_model.predict(vector)[0]\n",
    "    \n",
    "    # Step 5: Map numeric labels to readable strings\n",
    "    label_map = {\n",
    "        0: \"not_recommended\",\n",
    "        1: \"recommended\",\n",
    "        2: \"no_idea\"\n",
    "    }\n",
    "    \n",
    "    return label_map.get(predicted_label, \"unknown\")\n"
   ],
   "outputs": [],
   "execution_count": null
  },
  {
   "cell_type": "code",
   "metadata": {
    "colab": {
     "base_uri": "https://localhost:8080/",
     "height": 424
    },
    "id": "u32cM4_T_NZN",
    "outputId": "3685b8b4-51bc-49f9-8e21-1b5405b722a7"
   },
   "source": [
    "pre = test_data['body'].apply(predict_recommendation)\n",
    "submission = pd.DataFrame({'class':pre})\n",
    "submission"
   ],
   "outputs": [],
   "execution_count": null
  },
  {
   "cell_type": "code",
   "metadata": {
    "colab": {
     "base_uri": "https://localhost:8080/"
    },
    "id": "IGkOqnCM2BBo",
    "outputId": "64f2d7cb-8d51-484d-89d8-2f437a7f5ae5"
   },
   "source": [
    "import zipfile\n",
    "import joblib\n",
    "import os\n",
    " \n",
    "if not os.path.exists(os.path.join(os.getcwd(), 'persian_comments_preprocessing.ipynb')):\n",
    "    %notebook -e initial.ipynb\n",
    "\n",
    "\n",
    "def compress(file_names):\n",
    "    print(\"File Paths:\")\n",
    "    print(file_names)\n",
    "    compression = zipfile.ZIP_DEFLATED\n",
    "    with zipfile.ZipFile(\"result.zip\", mode=\"w\") as zf:\n",
    "        for file_name in file_names:\n",
    "            zf.write('./' + file_name, file_name, compress_type=compression)\n",
    "\n",
    "submission.to_csv('submission.csv', index=False)\n",
    "\n",
    "file_names = ['persian_comments_preprocessing.ipynb', 'submission.csv']\n",
    "compress(file_names)"
   ],
   "outputs": [],
   "execution_count": null
  },
  {
   "cell_type": "code",
   "metadata": {},
   "source": [],
   "outputs": [],
   "execution_count": null
  }
 ],
 "metadata": {
  "colab": {
   "provenance": []
  },
  "kernelspec": {
   "display_name": "Python 3",
   "language": "python",
   "name": "python3"
  },
  "language_info": {
   "codemirror_mode": {
    "name": "ipython",
    "version": 3
   },
   "file_extension": ".py",
   "mimetype": "text/x-python",
   "name": "python",
   "nbconvert_exporter": "python",
   "pygments_lexer": "ipython3",
   "version": "3.10.0"
  }
 },
 "nbformat": 4,
 "nbformat_minor": 0
}
